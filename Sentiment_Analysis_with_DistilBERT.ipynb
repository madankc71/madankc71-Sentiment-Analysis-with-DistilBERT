{
  "nbformat": 4,
  "nbformat_minor": 0,
  "metadata": {
    "colab": {
      "provenance": [],
      "toc_visible": true,
      "authorship_tag": "ABX9TyMk3ETk3fkWMmaiAc18G+ui",
      "include_colab_link": true
    },
    "kernelspec": {
      "name": "python3",
      "display_name": "Python 3"
    },
    "language_info": {
      "name": "python"
    }
  },
  "cells": [
    {
      "cell_type": "markdown",
      "metadata": {
        "id": "view-in-github",
        "colab_type": "text"
      },
      "source": [
        "<a href=\"https://colab.research.google.com/github/madankc71/madankc71-Sentiment-Analysis-with-DistilBERT/blob/main/Sentiment_Analysis_with_DistilBERT.ipynb\" target=\"_parent\"><img src=\"https://colab.research.google.com/assets/colab-badge.svg\" alt=\"Open In Colab\"/></a>"
      ]
    },
    {
      "cell_type": "markdown",
      "source": [
        "**Import necessary libraries:**"
      ],
      "metadata": {
        "id": "ZbMMjAN3BWBt"
      }
    },
    {
      "cell_type": "code",
      "execution_count": null,
      "metadata": {
        "id": "JMQPtUJE_kQo"
      },
      "outputs": [],
      "source": [
        "import torch\n",
        "import torch.nn as nn\n",
        "from transformers import AutoModelForSequenceClassification, AutoTokenizer"
      ]
    },
    {
      "cell_type": "markdown",
      "source": [
        "**Define constants for model name and number of labels**"
      ],
      "metadata": {
        "id": "ZBtPdsjEBbMn"
      }
    },
    {
      "cell_type": "code",
      "source": [
        "# Constants\n",
        "MODEL_NAME = \"textattack/distilbert-base-uncased-SST-2\" # Pre-trained model name\n",
        "NUM_LABELS = 2  # Number of sentiment labels (positive and negative)"
      ],
      "metadata": {
        "id": "cNp6SETp_m5i"
      },
      "execution_count": null,
      "outputs": []
    },
    {
      "cell_type": "markdown",
      "source": [
        "**Function to load pre-trained model and tokenizer**"
      ],
      "metadata": {
        "id": "gdRuu6WrBlps"
      }
    },
    {
      "cell_type": "code",
      "source": [
        "def load_model_and_tokenizer(model_name, num_labels):\n",
        "    \"\"\"\n",
        "    Load pre-trained model and tokenizer.\n",
        "\n",
        "    Args:\n",
        "        model_name (str): Name of pre-trained model\n",
        "        num_labels (int): Number of sentiment labels\n",
        "\n",
        "    Returns:\n",
        "        model (AutoModelForSequenceClassification): Pre-trained model\n",
        "        tokenizer (AutoTokenizer): Pre-trained tokenizer\n",
        "    \"\"\"\n",
        "\n",
        "     # Load pre-trained tokenizer\n",
        "    tokenizer = AutoTokenizer.from_pretrained(model_name)\n",
        "\n",
        "    # Load pre-trained model with specified number of labels\n",
        "    model = AutoModelForSequenceClassification.from_pretrained(model_name, num_labels=num_labels)\n",
        "\n",
        "    return model, tokenizer"
      ],
      "metadata": {
        "id": "ZjmOTtvb_saG"
      },
      "execution_count": null,
      "outputs": []
    },
    {
      "cell_type": "markdown",
      "source": [
        "**Function to predict sentiment for input texts**"
      ],
      "metadata": {
        "id": "mZKkY6U6B8wZ"
      }
    },
    {
      "cell_type": "code",
      "source": [
        "def predict_sentiment(texts, model, tokenizer):\n",
        "    \"\"\"\n",
        "    Predict sentiment for input texts.\n",
        "\n",
        "    Args:\n",
        "        texts (list[str]): List of input texts\n",
        "        model (AutoModelForSequenceClassification): Pre-trained model\n",
        "        tokenizer (AutoTokenizer): Pre-trained tokenizer\n",
        "\n",
        "    Returns:\n",
        "        predicted_classes (list[int]): List of predicted sentiment classes\n",
        "    \"\"\"\n",
        "\n",
        "    # Tokenize input texts and convert to tensors\n",
        "    inputs = tokenizer(texts, return_tensors=\"pt\", padding=True)\n",
        "\n",
        "    # Pass tokenized inputs to model for inference\n",
        "    outputs = model(**inputs)\n",
        "\n",
        "    # Get logits (unnormalized scores) from model output\n",
        "    logits = outputs.logits\n",
        "\n",
        "    # Get predicted sentiment classes by finding argmax of logits\n",
        "    predicted_classes = torch.argmax(logits, dim=1).tolist()\n",
        "\n",
        "    return predicted_classes"
      ],
      "metadata": {
        "id": "9bmN7Nss_tJF"
      },
      "execution_count": null,
      "outputs": []
    },
    {
      "cell_type": "markdown",
      "source": [
        "**Main function to run sentiment analysis pipeline**"
      ],
      "metadata": {
        "id": "bfgbUDw1CHvE"
      }
    },
    {
      "cell_type": "code",
      "source": [
        "def main():\n",
        "    # Load pre-trained model and tokenizer\n",
        "    model, tokenizer = load_model_and_tokenizer(MODEL_NAME, NUM_LABELS)\n",
        "\n",
        "    # Define input texts for sentiment analysis\n",
        "    texts = [\n",
        "        \"The best movie I've ever watched!\",  # Positive sentiment\n",
        "        \"What an awful movie. I regret watching it.\"  # Negative sentiment\n",
        "    ]\n",
        "\n",
        "    # Predict sentiment for input texts\n",
        "    predicted_classes = predict_sentiment(texts, model, tokenizer)\n",
        "\n",
        "    # Print predicted sentiment classes\n",
        "    for idx, predicted_class in enumerate(predicted_classes):\n",
        "        print(f\"Predicted class for \\\"{texts[idx]}\\\": {predicted_class}\")\n",
        "\n",
        "# Run main function if script is executed directly\n",
        "if __name__ == \"__main__\":\n",
        "    main()"
      ],
      "metadata": {
        "colab": {
          "base_uri": "https://localhost:8080/"
        },
        "id": "9o_1908N_vQi",
        "outputId": "ee332c55-ffc5-4f96-b744-67eb5fad1ed6"
      },
      "execution_count": null,
      "outputs": [
        {
          "output_type": "stream",
          "name": "stderr",
          "text": [
            "/usr/local/lib/python3.10/dist-packages/transformers/tokenization_utils_base.py:1601: FutureWarning: `clean_up_tokenization_spaces` was not set. It will be set to `True` by default. This behavior will be depracted in transformers v4.45, and will be then set to `False` by default. For more details check this issue: https://github.com/huggingface/transformers/issues/31884\n",
            "  warnings.warn(\n"
          ]
        },
        {
          "output_type": "stream",
          "name": "stdout",
          "text": [
            "Predicted class for \"The best movie I've ever watched!\": 1\n",
            "Predicted class for \"What an awful movie. I regret watching it.\": 0\n"
          ]
        }
      ]
    }
  ]
}